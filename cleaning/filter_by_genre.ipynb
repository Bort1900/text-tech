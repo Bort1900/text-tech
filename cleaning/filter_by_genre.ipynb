{
 "cells": [
  {
   "cell_type": "code",
   "execution_count": 1,
   "id": "82edc236",
   "metadata": {},
   "outputs": [
    {
     "name": "stdout",
     "output_type": "stream",
     "text": [
      "Metadata input exists: True\n",
      "Reviews input exists:  True\n"
     ]
    }
   ],
   "source": [
    "# Cell 1: Imports & Paths\n",
    "import json, random, os\n",
    "\n",
    "# Paths (relative to this notebook's folder)\n",
    "DATA_DIR     = os.path.join('..','book_data')\n",
    "META_IN      = os.path.join(DATA_DIR, 'meta_Books.json')\n",
    "REVIEWS_IN   = os.path.join(DATA_DIR, 'Books.json')\n",
    "META_OUT     = 'filtered_meta_Books.json'\n",
    "REVIEWS_OUT  = 'filtered_Books.json'\n",
    "\n",
    "print(\"Metadata input exists:\", os.path.exists(META_IN))\n",
    "print(\"Reviews input exists: \", os.path.exists(REVIEWS_IN))"
   ]
  },
  {
   "cell_type": "code",
   "execution_count": 2,
   "id": "edfa924b",
   "metadata": {},
   "outputs": [
    {
     "name": "stdout",
     "output_type": "stream",
     "text": [
      "Keys in metadata sample: dict_keys(['category', 'tech1', 'description', 'fit', 'title', 'also_buy', 'tech2', 'brand', 'feature', 'rank', 'also_view', 'main_cat', 'similar_item', 'date', 'price', 'asin', 'imageURL', 'imageURLHighRes'])\n",
      "Sample categories field: []\n"
     ]
    }
   ],
   "source": [
    "# Cell 2: Peek at a metadata line to confirm schema\n",
    "with open(META_IN,'r',encoding='utf-8') as f:\n",
    "    sample = json.loads(f.readline())\n",
    "        \n",
    "print(\"Keys in metadata sample:\", sample.keys())\n",
    "print(\"Sample categories field:\", sample.get('categories') or sample.get('category'))\n"
   ]
  },
  {
   "cell_type": "code",
   "execution_count": 3,
   "id": "55249e6e",
   "metadata": {},
   "outputs": [
    {
     "name": "stdout",
     "output_type": "stream",
     "text": [
      "Total distinct genres found: 1514\n"
     ]
    }
   ],
   "source": [
    "# Cell 3: Configuration & Collect genres → ASINS\n",
    "\n",
    "genre_to_asins = {}\n",
    "with open(META_IN,'r',encoding='utf-8') as f:\n",
    "    for line in f:\n",
    "        data = json.loads(line)\n",
    "        asin = data.get('asin')\n",
    "        cats = data.get('categories', []) or data.get('category', [])\n",
    "        # skip if no categories\n",
    "        if not cats:\n",
    "            continue\n",
    "        # flatten and map\n",
    "        for genre in cats:\n",
    "            genre_to_asins.setdefault(genre, set()).add(asin)\n",
    "\n",
    "print(\"Total distinct genres found:\", len(genre_to_asins))\n"
   ]
  },
  {
   "cell_type": "code",
   "execution_count": 4,
   "id": "db2c7694",
   "metadata": {},
   "outputs": [
    {
     "name": "stdout",
     "output_type": "stream",
     "text": [
      "Selected genres: ['Nursing', \"Men's Health\", '100% money back guarantee', 'Jordan', 'Agnosticism', 'Spiritual Growth', 'Mystery & Thrillers', 'Biomathematics', 'Nationalism', 'Automotive', 'Outdoor Cooking', 'Mirrored lens', 'Medicine &amp; Health Sciences', 'Occultism', 'Repair & Performance', 'Business & Professional Growth', 'Missions & Missionary Work', 'Composers & Musicians', 'Sales &amp; Selling', 'Mushrooms', 'Intelligence & Espionage', 'The Edge browser. Microsoft has retired the wrinkly old Internet Explorer browser and replaced it with an all-new, bare-bones one called Edge. Its designed to eat up very little screen space with controls, so that the Web pages youre reading get as much room as possible.', 'Power Tools', 'Access to this product is valid for 1 course enrollment. After this period, this product can be viewed under the \"view expired\" link in your CengageBrain account.', 'Author: Dr. Allen Lim, Chef Biju Thomas', 'Foreign Language Study', 'Parenting', 'Meditations', 'Eastern', 'Electrical &amp; Electronics', 'Swords & Knives', 'Coffee & Tea', 'Cats, Dogs &amp; Animals', 'Probability & Statistics', 'Science: 20.8', 'History & Criticism', 'Torts', 'Recorders', 'Systems Analysis &amp; Design', '7\" wide', \"Children's &amp; Youth Sports\", 'Erotica', 'This all-in-one Journal is divided into easy-to-use sections:', 'Africa', 'Instruction & Study', 'Canada', 'ISBN: 9781133045892', '1 large carrot, diced', 'Prayerbooks', 'Growing Up &amp; Facts of Life', 'Dictionaries & Terminology', 'Environmental &amp; Natural Resources Law', 'Access to this product is valid for 365 days after initial login. After this period, this product can be viewed under the \"view expired\" link in your CengageBrain account.', 'Science &amp; Technology', 'LGBT', 'Science Fiction, Fantasy & Horror', 'Negotiating', 'Natural Foods', 'Evidence', 'Atlases &amp; Gazetteers', 'ISBN: 9781285761282', 'Dramas & Plays', 'Romantic Comedy', 'Acting & Auditioning', 'Ethnic &amp; National', 'Handwriting Analysis', 'Digital Audio, Video & Photography', 'Haggadah', 'Holocaust', 'Religious & Sacred Music', 'Research', 'Time Management', 'Aviation', 'Graphics & Design', 'Biographical', 'Curricula', 'International', 'ISBN: 9781285779690', 'National & International Security', 'Nutrition', 'Access to this product is valid for 1 term of usage. After this period, this product can be viewed under the \"view expired\" link in your CengageBrain account.', 'Actors &amp; Entertainers', 'Projects', 'Racing', 'Media &amp; the Law', 'Psychological Thrillers', 'Christian', 'Word Games', 'Television', 'Sewing', 'Trees', 'Low Carbohydrate', 'Cross-Country', 'Entertaining & Holidays', 'Science Fiction, Fantasy &amp; Horror', 'Law Enforcement', 'General', 'Occupational Therapy', 'Beijing', 'Other Role-Playing Games']\n",
      "Total ASINs sampled: 28616\n"
     ]
    }
   ],
   "source": [
    "# Cell 4: Sample genres + ASINs\n",
    "GENRES_TO_SELECT = 100\n",
    "ENTRIES_PER_GENRE = 2000\n",
    "all_genres = list(genre_to_asins)\n",
    "selected_genres = random.sample(all_genres, min(GENRES_TO_SELECT, len(all_genres)))\n",
    "\n",
    "sampled_asins = set()\n",
    "for genre in selected_genres:\n",
    "    asins = list(genre_to_asins[genre])\n",
    "    sampled = random.sample(asins, min(ENTRIES_PER_GENRE, len(asins)))\n",
    "    sampled_asins.update(sampled)\n",
    "print(\"Selected genres:\", selected_genres)\n",
    "print(\"Total ASINs sampled:\", len(sampled_asins))\n"
   ]
  },
  {
   "cell_type": "code",
   "execution_count": 5,
   "id": "41586852",
   "metadata": {},
   "outputs": [
    {
     "name": "stdout",
     "output_type": "stream",
     "text": [
      "Wrote 28640 metadata lines to filtered_meta_Books.json\n"
     ]
    }
   ],
   "source": [
    "# Cell 5: Write filtered metadata\n",
    "with open(META_IN,'r',encoding='utf-8')  as infile, open(META_OUT, 'w', encoding='utf-8') as outfile:\n",
    "    count = 0\n",
    "    for line in infile:\n",
    "        data = json.loads(line)\n",
    "        if data.get('asin') in sampled_asins:\n",
    "            outfile.write(json.dumps(data) + \"\\n\")\n",
    "            count += 1\n",
    "print(f\"Wrote {count} metadata lines to {META_OUT}\")\n"
   ]
  },
  {
   "cell_type": "code",
   "execution_count": 6,
   "id": "ed9f1869",
   "metadata": {},
   "outputs": [
    {
     "name": "stdout",
     "output_type": "stream",
     "text": [
      "Wrote 537751 review lines to filtered_Books.json\n"
     ]
    }
   ],
   "source": [
    "# Cell 6: Write filtered reviews\n",
    "with open(REVIEWS_IN,'r',encoding='utf-8')  as infile, open(REVIEWS_OUT, 'w', encoding='utf-8') as outfile:\n",
    "    count = 0\n",
    "    for line in infile:\n",
    "        data = json.loads(line)\n",
    "        if data.get('asin') in sampled_asins:\n",
    "            outfile.write(json.dumps(data) + \"\\n\")\n",
    "            count += 1\n",
    "print(f\"Wrote {count} review lines to {REVIEWS_OUT}\")\n"
   ]
  }
 ],
 "metadata": {
  "kernelspec": {
   "display_name": "Python 3",
   "language": "python",
   "name": "python3"
  },
  "language_info": {
   "codemirror_mode": {
    "name": "ipython",
    "version": 3
   },
   "file_extension": ".py",
   "mimetype": "text/x-python",
   "name": "python",
   "nbconvert_exporter": "python",
   "pygments_lexer": "ipython3",
   "version": "3.10.11"
  }
 },
 "nbformat": 4,
 "nbformat_minor": 5
}

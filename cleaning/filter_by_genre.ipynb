{
 "cells": [
  {
   "cell_type": "code",
   "execution_count": null,
   "id": "82edc236",
   "metadata": {},
   "outputs": [],
   "source": [
    "# Cell 1: Imports & Paths\n",
    "import json, random, os\n",
    "\n",
    "# Paths (relative to this notebook's folder)\n",
    "DATA_DIR     = os.path.join('..','book_data')\n",
    "META_IN      = os.path.join(DATA_DIR, 'meta_Books.json')\n",
    "REVIEWS_IN   = os.path.join(DATA_DIR, 'Books.json')\n",
    "META_OUT     = 'filtered_meta_Books.json'\n",
    "REVIEWS_OUT  = 'filtered_Books.json'\n",
    "\n",
    "print(\"Metadata input exists:\", os.path.exists(META_IN))\n",
    "print(\"Reviews input exists: \", os.path.exists(REVIEWS_IN))"
   ]
  },
  {
   "cell_type": "code",
   "execution_count": null,
   "id": "edfa924b",
   "metadata": {},
   "outputs": [],
   "source": [
    "# Cell 2: Peek at a metadata line to confirm schema\n",
    "with open(META_IN) as f:\n",
    "    sample = json.loads(f.readline())\n",
    "        \n",
    "print(\"Keys in metadata sample:\", sample.keys())\n",
    "print(\"Sample categories field:\", sample.get('categories') or sample.get('category'))\n"
   ]
  },
  {
   "cell_type": "code",
   "execution_count": null,
   "id": "55249e6e",
   "metadata": {},
   "outputs": [],
   "source": [
    "# Cell 3: Configuration & Collect genres → ASINS\n",
    "\n",
    "genre_to_asins = {}\n",
    "with open(META_IN,'r',encoding='utf-8') as f:\n",
    "    for line in f:\n",
    "        data = json.loads(line)\n",
    "        asin = data.get('asin')\n",
    "        cats = data.get('categories', []) or data.get('category', [])\n",
    "        # skip if no categories\n",
    "        if not cats:\n",
    "            continue\n",
    "        # flatten and map\n",
    "        for genre in cats:\n",
    "            genre_to_asins.setdefault(genre, set()).add(asin)\n",
    "\n",
    "print(\"Total distinct genres found:\", len(genre_to_asins))\n"
   ]
  },
  {
   "cell_type": "code",
   "execution_count": null,
   "id": "db2c7694",
   "metadata": {},
   "outputs": [],
   "source": [
    "# Cell 4: Sample genres + ASINs\n",
    "GENRES_TO_SELECT = 100\n",
    "ENTRIES_PER_GENRE = 2000\n",
    "all_genres = list(genre_to_asins)\n",
    "selected_genres = random.sample(all_genres, min(GENRES_TO_SELECT, len(all_genres)))\n",
    "\n",
    "sampled_asins = set()\n",
    "for genre in selected_genres:\n",
    "    asins = list(genre_to_asins[genre])\n",
    "    sampled = random.sample(asins, min(ENTRIES_PER_GENRE, len(asins)))\n",
    "    sampled_asins.update(sampled)\n",
    "print(\"Selected genres:\", selected_genres)\n",
    "print(\"Total ASINs sampled:\", len(sampled_asins))\n"
   ]
  },
  {
   "cell_type": "code",
   "execution_count": null,
   "id": "41586852",
   "metadata": {},
   "outputs": [],
   "source": [
    "# Cell 5: Write filtered metadata\n",
    "with open(META_IN,'r',encoding='utf-8')  as infile, open(META_OUT, 'w') as outfile:\n",
    "    count = 0\n",
    "    for line in infile:\n",
    "        data = json.loads(line)\n",
    "        if data.get('asin') in sampled_asins:\n",
    "            outfile.write(json.dumps(data) + \"\\n\")\n",
    "            count += 1\n",
    "print(f\"Wrote {count} metadata lines to {META_OUT}\")\n"
   ]
  },
  {
   "cell_type": "code",
   "execution_count": null,
   "id": "ed9f1869",
   "metadata": {},
   "outputs": [],
   "source": [
    "# Cell 6: Write filtered reviews\n",
    "with open(REVIEWS_IN,'r',encoding='utf-8')  as infile, open(REVIEWS_OUT, 'w') as outfile:\n",
    "    count = 0\n",
    "    for line in infile:\n",
    "        data = json.loads(line)\n",
    "        if data.get('asin') in sampled_asins:\n",
    "            outfile.write(json.dumps(data) + \"\\n\")\n",
    "            count += 1\n",
    "print(f\"Wrote {count} review lines to {REVIEWS_OUT}\")\n"
   ]
  }
 ],
 "metadata": {
  "kernelspec": {
   "display_name": "Python 3",
   "language": "python",
   "name": "python3"
  },
  "language_info": {
   "codemirror_mode": {
    "name": "ipython",
    "version": 3
   },
   "file_extension": ".py",
   "mimetype": "text/x-python",
   "name": "python",
   "nbconvert_exporter": "python",
   "pygments_lexer": "ipython3",
   "version": "3.10.11"
  }
 },
 "nbformat": 4,
 "nbformat_minor": 5
}

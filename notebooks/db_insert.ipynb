{
 "cells": [
  {
   "cell_type": "markdown",
   "id": "f49821b3",
   "metadata": {},
   "source": [
    "This Notebook inserts the data into three SQLite tables according to db_schema.sql"
   ]
  },
  {
   "cell_type": "code",
   "execution_count": 10,
   "id": "456841e7",
   "metadata": {},
   "outputs": [
    {
     "name": "stdout",
     "output_type": "stream",
     "text": [
      "Metadata input exists: True\n"
     ]
    }
   ],
   "source": [
    "import sqlite3, json, os\n",
    "\n",
    "DB_PATH  = os.path.join('..','data','output','sql','book_reviews.db')\n",
    "if os.path.exists(DB_PATH):\n",
    "    os.remove(DB_PATH)\n",
    "SCHEMA   = os.path.join('..','schema','sql','db_schema.sql')\n",
    "PHRASES  = os.path.join('..','data','processed','phrases.json')\n",
    "\n",
    "print(\"Metadata input exists:\", os.path.exists(SCHEMA))"
   ]
  },
  {
   "cell_type": "code",
   "execution_count": 11,
   "id": "27207e41",
   "metadata": {},
   "outputs": [],
   "source": [
    "# Connect & create tables\n",
    "conn = sqlite3.connect(DB_PATH)\n",
    "cur  = conn.cursor()\n",
    "with open(SCHEMA,'r',encoding='utf-8') as f:\n",
    "    cur.executescript(f.read())\n"
   ]
  },
  {
   "cell_type": "code",
   "execution_count": 12,
   "id": "1d81ba0f",
   "metadata": {},
   "outputs": [],
   "source": [
    "# Load JSON data\n",
    "with open(PHRASES,'r',encoding='utf-8') as f:\n",
    "    data = json.load(f)"
   ]
  },
  {
   "cell_type": "code",
   "execution_count": 13,
   "id": "9ad9efe1",
   "metadata": {},
   "outputs": [
    {
     "name": "stdout",
     "output_type": "stream",
     "text": [
      "Data insertion complete\n"
     ]
    }
   ],
   "source": [
    "# Insert into tables\n",
    "for entry in data:\n",
    "    asin    = entry.get('asin','')\n",
    "    title   = entry.get('title','')\n",
    "    genre   = entry.get('genre','')\n",
    "    price   = entry.get('price','')\n",
    "    author  = entry.get('author','')\n",
    "    if asin == \"0006498442\":\n",
    "        print(genre)\n",
    "    # Books table\n",
    "    cur.execute(\n",
    "        \"INSERT OR IGNORE INTO books (asin,title, author, price,genre) VALUES (?,?,?,?,?)\",\n",
    "        (asin, title, author, price, genre)\n",
    "    )\n",
    "\n",
    "    # Reviews table\n",
    "    cur.execute(\n",
    "        \"INSERT INTO reviews (asin,rating,review_text,summary) VALUES (?,?,?,?)\",\n",
    "        (asin, entry.get('rating'), entry.get('text',''), entry.get('summary',''))\n",
    "    )\n",
    "    review_id = cur.lastrowid\n",
    "\n",
    "    # Sentiments table\n",
    "    for p in entry.get('phrases', []):\n",
    "        cur.execute(\n",
    "            \"INSERT INTO sentiments (review_id,phrase,polarity) VALUES (?,?,?)\",\n",
    "            (review_id, p['text'], p['polarity'])\n",
    "        )\n",
    "\n",
    "conn.commit()\n",
    "conn.close()\n",
    "print(\"Data insertion complete\")\n"
   ]
  },
  {
   "cell_type": "code",
   "execution_count": 14,
   "id": "a9859e94",
   "metadata": {},
   "outputs": [
    {
     "ename": "OperationalError",
     "evalue": "unable to open database file",
     "output_type": "error",
     "traceback": [
      "\u001b[1;31m---------------------------------------------------------------------------\u001b[0m",
      "\u001b[1;31mOperationalError\u001b[0m                          Traceback (most recent call last)",
      "Cell \u001b[1;32mIn[14], line 4\u001b[0m\n\u001b[0;32m      1\u001b[0m \u001b[38;5;66;03m# Verify & Query Counts\u001b[39;00m\n\u001b[0;32m      2\u001b[0m \u001b[38;5;28;01mimport\u001b[39;00m \u001b[38;5;21;01msqlite3\u001b[39;00m\n\u001b[1;32m----> 4\u001b[0m conn \u001b[38;5;241m=\u001b[39m \u001b[43msqlite3\u001b[49m\u001b[38;5;241;43m.\u001b[39;49m\u001b[43mconnect\u001b[49m\u001b[43m(\u001b[49m\u001b[38;5;124;43m'\u001b[39;49m\u001b[38;5;124;43mdatabase/book_reviews.db\u001b[39;49m\u001b[38;5;124;43m'\u001b[39;49m\u001b[43m)\u001b[49m\n\u001b[0;32m      5\u001b[0m \u001b[38;5;28;01mfor\u001b[39;00m table \u001b[38;5;129;01min\u001b[39;00m (\u001b[38;5;124m'\u001b[39m\u001b[38;5;124mbooks\u001b[39m\u001b[38;5;124m'\u001b[39m,\u001b[38;5;124m'\u001b[39m\u001b[38;5;124mreviews\u001b[39m\u001b[38;5;124m'\u001b[39m,\u001b[38;5;124m'\u001b[39m\u001b[38;5;124msentiments\u001b[39m\u001b[38;5;124m'\u001b[39m):\n\u001b[0;32m      6\u001b[0m     cnt \u001b[38;5;241m=\u001b[39m conn\u001b[38;5;241m.\u001b[39mexecute(\u001b[38;5;124mf\u001b[39m\u001b[38;5;124m\"\u001b[39m\u001b[38;5;124mSELECT COUNT(*) FROM \u001b[39m\u001b[38;5;132;01m{\u001b[39;00mtable\u001b[38;5;132;01m}\u001b[39;00m\u001b[38;5;124m\"\u001b[39m)\u001b[38;5;241m.\u001b[39mfetchone()[\u001b[38;5;241m0\u001b[39m]\n",
      "\u001b[1;31mOperationalError\u001b[0m: unable to open database file"
     ]
    }
   ],
   "source": [
    "# Verify & Query Counts\n",
    "import sqlite3\n",
    "\n",
    "conn = sqlite3.connect('database/book_reviews.db')\n",
    "for table in ('books','reviews','sentiments'):\n",
    "    cnt = conn.execute(f\"SELECT COUNT(*) FROM {table}\").fetchone()[0]\n",
    "    print(f\"{table}: {cnt} rows\")\n",
    "conn.close()\n"
   ]
  }
 ],
 "metadata": {
  "kernelspec": {
   "display_name": "Python 3",
   "language": "python",
   "name": "python3"
  },
  "language_info": {
   "codemirror_mode": {
    "name": "ipython",
    "version": 3
   },
   "file_extension": ".py",
   "mimetype": "text/x-python",
   "name": "python",
   "nbconvert_exporter": "python",
   "pygments_lexer": "ipython3",
   "version": "3.10.11"
  }
 },
 "nbformat": 4,
 "nbformat_minor": 5
}

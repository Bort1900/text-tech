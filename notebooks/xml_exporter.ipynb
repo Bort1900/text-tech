{
 "cells": [
  {
   "cell_type": "markdown",
   "id": "afe0f7f9",
   "metadata": {},
   "source": [
    "This notebook exports the notebook to a neat XML format as specified by book_schema.rng"
   ]
  },
  {
   "cell_type": "code",
   "execution_count": 4,
   "id": "2543f7e4",
   "metadata": {},
   "outputs": [
    {
     "name": "stdout",
     "output_type": "stream",
     "text": [
      "Metadata input exists: True\n",
      "Metadata input exists: True\n"
     ]
    }
   ],
   "source": [
    "import json, os\n",
    "import xml.etree.ElementTree as ET\n",
    "\n",
    "DATA_DIR = os.path.join('..','data')\n",
    "IN_FILE  = os.path.join(DATA_DIR,'processed','phrases.json')\n",
    "SCHEMA = os.path.join('..','schema','xml','book_schema.rng')\n",
    "OUT_XML = os.path.join(DATA_DIR,'output','xml','all_reviews.xml')\n",
    "\n",
    "\n",
    "print(\"Metadata input exists:\", os.path.exists(IN_FILE))\n",
    "print(\"Metadata input exists:\", os.path.exists(SCHEMA))\n"
   ]
  },
  {
   "cell_type": "code",
   "execution_count": null,
   "id": "d1d8a4fe",
   "metadata": {},
   "outputs": [],
   "source": [
    "# Load JSON\n",
    "with open(IN_FILE, \"r\", encoding=\"utf-8\") as f:\n",
    "    data = json.load(f)"
   ]
  },
  {
   "cell_type": "code",
   "execution_count": 2,
   "id": "9e22e17d",
   "metadata": {},
   "outputs": [],
   "source": [
    "#build XML element tree\n",
    "root = ET.Element(\"reviews\")\n",
    "for entry in data:\n",
    "    asin = str(entry.get(\"asin\") or \"\")\n",
    "    title = str(entry.get(\"title\") or \"\")\n",
    "    author = str(entry.get(\"title\") or \"\")\n",
    "    genre = str(entry.get(\"genre\") or \"\")\n",
    "    price = float(entry.get(\"price\")) or \"\"\n",
    "    formatted_price=\"$\"+str(\"{:10.2f}\".format(price)).strip()\n",
    "    \n",
    "    review_el = ET.SubElement(root, \"review\")\n",
    "    #metadata\n",
    "    book_el = ET.SubElement(\n",
    "        review_el,\n",
    "        \"book\",\n",
    "        {\"asin\": asin, \"title\": title, \"author\":author, \"genre\": genre, \"price\": formatted_price},\n",
    "    )\n",
    "\n",
    "    #review data\n",
    "    sents_el = ET.SubElement(review_el, \"sentiments\")\n",
    "    for phrase in entry.get(\"phrases\", []):\n",
    "        text = str(phrase.get(\"text\") or \"\")\n",
    "        pol = str(phrase.get(\"polarity\") or \"\")\n",
    "        ph_el = ET.SubElement(sents_el, \"phrase\", {\"polarity\": pol})\n",
    "        ph_el.text = text"
   ]
  },
  {
   "cell_type": "code",
   "execution_count": 3,
   "id": "736a4738",
   "metadata": {},
   "outputs": [
    {
     "name": "stdout",
     "output_type": "stream",
     "text": [
      "XML successfully written to output/xml/all_reviews.xml\n"
     ]
    }
   ],
   "source": [
    "# write Element Tree to XML file\n",
    "tree = ET.ElementTree(root)\n",
    "tree.write(OUT_XML, encoding=\"utf-8\", xml_declaration=True)\n",
    "print(f\"XML successfully written to {OUT_XML}\")"
   ]
  },
  {
   "cell_type": "code",
   "execution_count": 11,
   "id": "fac7cf7a",
   "metadata": {},
   "outputs": [
    {
     "name": "stdout",
     "output_type": "stream",
     "text": [
      "XML is valid \n"
     ]
    }
   ],
   "source": [
    "from lxml import etree\n",
    "\n",
    "# Load the Relax NG schema\n",
    "with open(SCHEMA,\"rb\") as f:\n",
    "    relaxng_doc = etree.parse(f)\n",
    "    relaxng = etree.RelaxNG(relaxng_doc)\n",
    "\n",
    "# Load the XML document\n",
    "with open(OUT_XML, \"rb\") as f:\n",
    "    xml_doc = etree.parse(f)\n",
    "\n",
    "# Validate\n",
    "if relaxng.validate(xml_doc):\n",
    "    print(\"XML is valid \")\n",
    "else:\n",
    "    print(\"XML is invalid \")\n",
    "    print(relaxng.error_log)\n"
   ]
  }
 ],
 "metadata": {
  "kernelspec": {
   "display_name": "Python 3",
   "language": "python",
   "name": "python3"
  },
  "language_info": {
   "codemirror_mode": {
    "name": "ipython",
    "version": 3
   },
   "file_extension": ".py",
   "mimetype": "text/x-python",
   "name": "python",
   "nbconvert_exporter": "python",
   "pygments_lexer": "ipython3",
   "version": "3.10.11"
  }
 },
 "nbformat": 4,
 "nbformat_minor": 5
}

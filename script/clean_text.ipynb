{
 "cells": [
  {
   "cell_type": "markdown",
   "id": "63a8f248",
   "metadata": {},
   "source": [
    "This Notebook splits the reviews into clean sentences for sentiment analysis"
   ]
  },
  {
   "cell_type": "code",
   "execution_count": 25,
   "id": "1e84e048",
   "metadata": {},
   "outputs": [
    {
     "name": "stderr",
     "output_type": "stream",
     "text": [
      "[nltk_data] Downloading package punkt to\n",
      "[nltk_data]     C:\\Users\\nkash\\AppData\\Roaming\\nltk_data...\n",
      "[nltk_data]   Package punkt is already up-to-date!\n"
     ]
    },
    {
     "data": {
      "text/plain": [
       "True"
      ]
     },
     "execution_count": 25,
     "metadata": {},
     "output_type": "execute_result"
    }
   ],
   "source": [
    "import json, re, os\n",
    "from nltk.tokenize import sent_tokenize\n",
    "import nltk\n",
    "\n",
    "nltk.download('punkt') "
   ]
  },
  {
   "cell_type": "code",
   "execution_count": 26,
   "id": "b25e4c27",
   "metadata": {},
   "outputs": [],
   "source": [
    "def clean(text):\n",
    "    # remove HTML tags\n",
    "    text = re.sub(r'<[^>]+>', '', text)\n",
    "    # remove anything except word chars, space, .,!?\n",
    "    text = re.sub(r'[^\\w\\s\\.\\,\\!\\?]', '', text)\n",
    "    # lowercase and strip\n",
    "    return text.lower().strip()\n",
    "\n",
    "\n",
    "def split_sentences(text):\n",
    "    return sent_tokenize(text,language='english')"
   ]
  },
  {
   "cell_type": "code",
   "execution_count": 27,
   "id": "34f5ade1",
   "metadata": {},
   "outputs": [],
   "source": [
    "IN_FILE  = 'data/processed/merged.json'\n",
    "OUT_FILE = 'data/processed/cleaned.json'\n",
    "os.makedirs(os.path.dirname(OUT_FILE), exist_ok=True)"
   ]
  },
  {
   "cell_type": "code",
   "execution_count": 28,
   "id": "b9183b4e",
   "metadata": {},
   "outputs": [
    {
     "name": "stdout",
     "output_type": "stream",
     "text": [
      "Cleaned 398639 reviews → data/processed/cleaned.json\n"
     ]
    }
   ],
   "source": [
    "# Load merged reviews\n",
    "with open(IN_FILE, 'r',encoding='utf-8') as f:\n",
    "    data = json.load(f)\n",
    "\n",
    "# Clean & split each review\n",
    "for entry in data:\n",
    "    raw = entry.get('text', '') or ''\n",
    "    cleaned_block = clean(raw)\n",
    "    entry['sentences'] = split_sentences(cleaned_block)\n",
    "    #remove encoding mistake\n",
    "    entry[\"genre\"]=re.sub(r'&amp;','&',entry[\"genre\"])\n",
    "    #remove dollar signs\n",
    "    entry[\"price\"]=float(re.sub(\",\",\"\",entry[\"price\"])[1:])\n",
    "    #extract author\n",
    "    entry[\"author\"]=re.sub(r\"Visit Amazon's (.*) Page\",r\"\\1\",entry[\"author\"])\n",
    "\n",
    "# Write cleaned data to JSON file\n",
    "with open(OUT_FILE, 'w', encoding='utf-8') as f:\n",
    "    json.dump(data, f, indent=2)\n",
    "\n",
    "print(f\"Cleaned {len(data)} reviews → {OUT_FILE}\")"
   ]
  }
 ],
 "metadata": {
  "kernelspec": {
   "display_name": "Python 3",
   "language": "python",
   "name": "python3"
  },
  "language_info": {
   "codemirror_mode": {
    "name": "ipython",
    "version": 3
   },
   "file_extension": ".py",
   "mimetype": "text/x-python",
   "name": "python",
   "nbconvert_exporter": "python",
   "pygments_lexer": "ipython3",
   "version": "3.10.11"
  }
 },
 "nbformat": 4,
 "nbformat_minor": 5
}

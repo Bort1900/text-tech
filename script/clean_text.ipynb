{
 "cells": [
  {
   "cell_type": "code",
   "execution_count": null,
   "id": "1e84e048",
   "metadata": {},
   "outputs": [],
   "source": [
    "import json, re, os\n",
    "\n",
    "# 1) Helper functions\n",
    "def clean(text):\n",
    "    # remove HTML tags\n",
    "    text = re.sub(r'<[^>]+>', '', text)\n",
    "    # remove anything except word chars, space, .,!?\n",
    "    text = re.sub(r'[^\\w\\s\\.\\,\\!\\?]', '', text)\n",
    "    # lowercase and strip\n",
    "    return text.lower().strip()\n",
    "\n",
    "def split_sentences(text):\n",
    "    # split on . or ! or ? followed by whitespace\n",
    "    parts = re.split(r'(?<=[\\.!?])\\s+', text.strip())\n",
    "    return [p for p in parts if p]\n",
    "\n",
    "# 2) File paths\n",
    "IN_FILE  = 'data/processed/merged.json'\n",
    "OUT_FILE = 'data/processed/cleaned.json'\n",
    "os.makedirs(os.path.dirname(OUT_FILE), exist_ok=True)\n",
    "\n",
    "# 3) Load merged data\n",
    "with open(IN_FILE, 'r') as f:\n",
    "    data = json.load(f)\n",
    "\n",
    "# 4) Clean & split each review\n",
    "for entry in data:\n",
    "    raw = entry.get('text', '') or ''\n",
    "    cleaned_block = clean(raw)\n",
    "    entry['sentences'] = split_sentences(cleaned_block)\n",
    "\n",
    "# 5) Write out cleaned JSON\n",
    "with open(OUT_FILE, 'w') as f:\n",
    "    json.dump(data, f, indent=2)\n",
    "\n",
    "print(f\"✅ Cleaned {len(data)} reviews → {OUT_FILE}\")\n"
   ]
  }
 ],
 "metadata": {
  "kernelspec": {
   "display_name": "Python 3",
   "language": "python",
   "name": "python3"
  },
  "language_info": {
   "codemirror_mode": {
    "name": "ipython",
    "version": 3
   },
   "file_extension": ".py",
   "mimetype": "text/x-python",
   "name": "python",
   "nbconvert_exporter": "python",
   "pygments_lexer": "ipython3",
   "version": "3.10.11"
  }
 },
 "nbformat": 4,
 "nbformat_minor": 5
}

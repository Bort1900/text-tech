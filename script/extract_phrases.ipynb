{
 "cells": [
  {
   "cell_type": "code",
   "execution_count": 1,
   "id": "7ef1818e",
   "metadata": {},
   "outputs": [
    {
     "name": "stdout",
     "output_type": "stream",
     "text": [
      "Requirement already satisfied: vaderSentiment in c:\\python310\\lib\\site-packages (3.3.2)\n",
      "Requirement already satisfied: requests in c:\\users\\hardik\\appdata\\roaming\\python\\python310\\site-packages (from vaderSentiment) (2.28.1)\n",
      "Requirement already satisfied: charset-normalizer<3,>=2 in c:\\users\\hardik\\appdata\\roaming\\python\\python310\\site-packages (from requests->vaderSentiment) (2.1.1)\n",
      "Requirement already satisfied: idna<4,>=2.5 in c:\\users\\hardik\\appdata\\roaming\\python\\python310\\site-packages (from requests->vaderSentiment) (3.4)\n",
      "Requirement already satisfied: urllib3<1.27,>=1.21.1 in c:\\users\\hardik\\appdata\\roaming\\python\\python310\\site-packages (from requests->vaderSentiment) (1.26.12)\n",
      "Requirement already satisfied: certifi>=2017.4.17 in c:\\users\\hardik\\appdata\\roaming\\python\\python310\\site-packages (from requests->vaderSentiment) (2022.9.24)\n"
     ]
    },
    {
     "name": "stderr",
     "output_type": "stream",
     "text": [
      "WARNING: Ignoring invalid distribution - (c:\\python310\\lib\\site-packages)\n",
      "WARNING: Ignoring invalid distribution -ip (c:\\python310\\lib\\site-packages)\n",
      "WARNING: Ignoring invalid distribution -p (c:\\python310\\lib\\site-packages)\n",
      "WARNING: Ignoring invalid distribution - (c:\\python310\\lib\\site-packages)\n",
      "WARNING: Ignoring invalid distribution -ip (c:\\python310\\lib\\site-packages)\n",
      "WARNING: Ignoring invalid distribution -p (c:\\python310\\lib\\site-packages)\n",
      "\n",
      "[notice] A new release of pip is available: 23.2.1 -> 25.1.1\n",
      "[notice] To update, run: python.exe -m pip install --upgrade pip\n"
     ]
    }
   ],
   "source": [
    "!pip install vaderSentiment"
   ]
  },
  {
   "cell_type": "code",
   "execution_count": 2,
   "id": "a0c10173",
   "metadata": {},
   "outputs": [],
   "source": [
    "from vaderSentiment.vaderSentiment import SentimentIntensityAnalyzer\n",
    "import json, os\n",
    "\n",
    "# Paths\n",
    "IN_FILE   = 'data/processed/cleaned.json'\n",
    "OUT_FILE  = 'data/processed/phrases.json'\n",
    "os.makedirs(os.path.dirname(OUT_FILE), exist_ok=True)\n",
    "\n",
    "# Init analyzer\n",
    "analyzer = SentimentIntensityAnalyzer()"
   ]
  },
  {
   "cell_type": "code",
   "execution_count": 3,
   "id": "ea7b333f",
   "metadata": {},
   "outputs": [
    {
     "name": "stdout",
     "output_type": "stream",
     "text": [
      "✅ Extracted phrases for 247443 reviews → data/processed/phrases.json\n",
      "[]\n"
     ]
    }
   ],
   "source": [
    "# 1) Load cleaned data\n",
    "with open(IN_FILE, 'r') as f:\n",
    "    data = json.load(f)\n",
    "\n",
    "# 2) For each review, filter sentences by VADER score\n",
    "for entry in data:\n",
    "    phrases = []\n",
    "    for sent in entry.get('sentences', []):\n",
    "        score = analyzer.polarity_scores(sent)['compound']\n",
    "        if abs(score) > 0.4:            # threshold for “strong” sentiment\n",
    "            polarity = 'positive' if score > 0 else 'negative'\n",
    "            phrases.append({'text': sent, 'polarity': polarity})\n",
    "    entry['phrases'] = phrases\n",
    "\n",
    "# 3) Write out to phrases.json\n",
    "with open(OUT_FILE, 'w') as f:\n",
    "    json.dump(data, f, indent=2)\n",
    "\n",
    "print(f\"✅ Extracted phrases for {len(data)} reviews → {OUT_FILE}\")\n",
    "# Preview a few examples\n",
    "print(data[0]['phrases'][:5])  \n"
   ]
  }
 ],
 "metadata": {
  "kernelspec": {
   "display_name": "Python 3",
   "language": "python",
   "name": "python3"
  },
  "language_info": {
   "codemirror_mode": {
    "name": "ipython",
    "version": 3
   },
   "file_extension": ".py",
   "mimetype": "text/x-python",
   "name": "python",
   "nbconvert_exporter": "python",
   "pygments_lexer": "ipython3",
   "version": "3.10.5"
  }
 },
 "nbformat": 4,
 "nbformat_minor": 5
}

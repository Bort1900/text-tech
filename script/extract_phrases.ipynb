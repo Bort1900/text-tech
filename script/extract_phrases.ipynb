{
 "cells": [
  {
   "cell_type": "markdown",
   "id": "118ba1e0",
   "metadata": {},
   "source": [
    "This notebook applies a sentiment score to review sentences and marks their polarity"
   ]
  },
  {
   "cell_type": "code",
   "execution_count": 1,
   "id": "7ef1818e",
   "metadata": {},
   "outputs": [
    {
     "name": "stdout",
     "output_type": "stream",
     "text": [
      "Requirement already satisfied: vaderSentiment in c:\\users\\nkash\\appdata\\local\\packages\\pythonsoftwarefoundation.python.3.10_qbz5n2kfra8p0\\localcache\\local-packages\\python310\\site-packages (3.3.2)\n",
      "Requirement already satisfied: requests in c:\\users\\nkash\\appdata\\local\\packages\\pythonsoftwarefoundation.python.3.10_qbz5n2kfra8p0\\localcache\\local-packages\\python310\\site-packages (from vaderSentiment) (2.32.3)\n",
      "Requirement already satisfied: charset-normalizer<4,>=2 in c:\\users\\nkash\\appdata\\local\\packages\\pythonsoftwarefoundation.python.3.10_qbz5n2kfra8p0\\localcache\\local-packages\\python310\\site-packages (from requests->vaderSentiment) (3.1.0)\n",
      "Requirement already satisfied: idna<4,>=2.5 in c:\\users\\nkash\\appdata\\local\\packages\\pythonsoftwarefoundation.python.3.10_qbz5n2kfra8p0\\localcache\\local-packages\\python310\\site-packages (from requests->vaderSentiment) (3.4)\n",
      "Requirement already satisfied: urllib3<3,>=1.21.1 in c:\\users\\nkash\\appdata\\local\\packages\\pythonsoftwarefoundation.python.3.10_qbz5n2kfra8p0\\localcache\\local-packages\\python310\\site-packages (from requests->vaderSentiment) (2.0.3)\n",
      "Requirement already satisfied: certifi>=2017.4.17 in c:\\users\\nkash\\appdata\\local\\packages\\pythonsoftwarefoundation.python.3.10_qbz5n2kfra8p0\\localcache\\local-packages\\python310\\site-packages (from requests->vaderSentiment) (2023.5.7)\n"
     ]
    },
    {
     "name": "stderr",
     "output_type": "stream",
     "text": [
      "\n",
      "[notice] A new release of pip is available: 25.0 -> 25.1.1\n",
      "[notice] To update, run: C:\\Users\\nkash\\AppData\\Local\\Microsoft\\WindowsApps\\PythonSoftwareFoundation.Python.3.10_qbz5n2kfra8p0\\python.exe -m pip install --upgrade pip\n"
     ]
    }
   ],
   "source": [
    "!pip install vaderSentiment"
   ]
  },
  {
   "cell_type": "code",
   "execution_count": 2,
   "id": "a0c10173",
   "metadata": {},
   "outputs": [],
   "source": [
    "from vaderSentiment.vaderSentiment import SentimentIntensityAnalyzer\n",
    "import json, os\n",
    "\n",
    "IN_FILE   = 'data/processed/cleaned.json'\n",
    "OUT_FILE  = 'data/processed/phrases.json'\n",
    "os.makedirs(os.path.dirname(OUT_FILE), exist_ok=True)\n",
    "\n",
    "analyzer = SentimentIntensityAnalyzer()"
   ]
  },
  {
   "cell_type": "code",
   "execution_count": 3,
   "id": "ea7b333f",
   "metadata": {},
   "outputs": [
    {
     "name": "stdout",
     "output_type": "stream",
     "text": [
      "Extracted phrases for 398639 reviews → data/processed/phrases.json\n",
      "[{'text': 'a friend gave me this book, and said you gotta read this.', 'polarity': 'positive'}, {'text': 'and you know what, im really happy she did, because i learned a lot from dispatches.', 'polarity': 'positive'}, {'text': 'harden does a great job of weaving different short stories, each with a unique slant and look at african life.', 'polarity': 'positive'}, {'text': 'both entertaining and educational, im now fascinated with africa and ready to read more!', 'polarity': 'positive'}]\n"
     ]
    }
   ],
   "source": [
    "# Load cleaned data\n",
    "with open(IN_FILE, 'r',encoding='utf-8') as f:\n",
    "    data = json.load(f)\n",
    "\n",
    "# For each review, filter sentences by VADER score\n",
    "for entry in data:\n",
    "    phrases = []\n",
    "    for sent in entry.get('sentences', []):\n",
    "        score = analyzer.polarity_scores(sent)['compound']\n",
    "        if abs(score) > 0.4:            # threshold for “strong” sentiment\n",
    "            polarity = 'positive' if score > 0 else 'negative'\n",
    "        else: \n",
    "            polarity='neutral'\n",
    "        phrases.append({'text': sent, 'polarity': polarity})\n",
    "    entry['phrases'] = phrases\n",
    "\n",
    "# Write data to JSON file\n",
    "with open(OUT_FILE, 'w',encoding='utf-8') as f:\n",
    "    json.dump(data, f, indent=2)\n",
    "\n",
    "print(f\"Extracted phrases for {len(data)} reviews → {OUT_FILE}\")\n",
    "# Preview a few examples\n",
    "print(data[0]['phrases'][:5])  \n"
   ]
  }
 ],
 "metadata": {
  "kernelspec": {
   "display_name": "Python 3",
   "language": "python",
   "name": "python3"
  },
  "language_info": {
   "codemirror_mode": {
    "name": "ipython",
    "version": 3
   },
   "file_extension": ".py",
   "mimetype": "text/x-python",
   "name": "python",
   "nbconvert_exporter": "python",
   "pygments_lexer": "ipython3",
   "version": "3.10.11"
  }
 },
 "nbformat": 4,
 "nbformat_minor": 5
}

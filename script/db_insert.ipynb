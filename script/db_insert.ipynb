{
 "cells": [
  {
   "cell_type": "code",
   "execution_count": null,
   "id": "456841e7",
   "metadata": {},
   "outputs": [],
   "source": [
    "import sqlite3, json, os\n",
    "\n",
    "# 1) Paths\n",
    "DB_PATH  = 'database/book_reviews.db'\n",
    "SCHEMA   = './db_schema.sql'\n",
    "PHRASES  = 'data/processed/phrases.json'\n",
    "os.makedirs(os.path.dirname(DB_PATH), exist_ok=True)"
   ]
  },
  {
   "cell_type": "code",
   "execution_count": null,
   "id": "27207e41",
   "metadata": {},
   "outputs": [],
   "source": [
    "# 2) Connect & create tables\n",
    "conn = sqlite3.connect(DB_PATH)\n",
    "cur  = conn.cursor()\n",
    "with open(SCHEMA) as f:\n",
    "    cur.executescript(f.read())\n"
   ]
  },
  {
   "cell_type": "code",
   "execution_count": null,
   "id": "1d81ba0f",
   "metadata": {},
   "outputs": [],
   "source": [
    "# 3) Load your JSON data\n",
    "with open(PHRASES) as f:\n",
    "    data = json.load(f)\n"
   ]
  },
  {
   "cell_type": "code",
   "execution_count": null,
   "id": "9ad9efe1",
   "metadata": {},
   "outputs": [],
   "source": [
    "# 4) Insert into tables\n",
    "for entry in data:\n",
    "    asin    = entry.get('asin','')\n",
    "    title   = entry.get('title','')\n",
    "    genre   = entry.get('genre','')\n",
    "    price   = entry.get('price','')\n",
    "\n",
    "    # Books table\n",
    "    cur.execute(\n",
    "        \"INSERT OR IGNORE INTO books (asin,title,price,genre) VALUES (?,?,?,?)\",\n",
    "        (asin, title, price, genre)\n",
    "    )\n",
    "\n",
    "    # Reviews table\n",
    "    cur.execute(\n",
    "        \"INSERT INTO reviews (asin,rating,review_text,summary) VALUES (?,?,?,?)\",\n",
    "        (asin, entry.get('rating'), entry.get('text',''), entry.get('summary',''))\n",
    "    )\n",
    "    review_id = cur.lastrowid\n",
    "\n",
    "    # Sentiments table\n",
    "    for p in entry.get('phrases', []):\n",
    "        cur.execute(\n",
    "            \"INSERT INTO sentiments (review_id,phrase,polarity) VALUES (?,?,?)\",\n",
    "            (review_id, p['text'], p['polarity'])\n",
    "        )\n",
    "\n",
    "# 5) Commit and close\n",
    "conn.commit()\n",
    "conn.close()\n",
    "print(\"✅ Data insertion complete\")\n"
   ]
  },
  {
   "cell_type": "code",
   "execution_count": null,
   "id": "a9859e94",
   "metadata": {},
   "outputs": [],
   "source": [
    "# Cell: Verify & Query Counts\n",
    "import sqlite3\n",
    "\n",
    "conn = sqlite3.connect('database/book_reviews.db')\n",
    "for table in ('books','reviews','sentiments'):\n",
    "    cnt = conn.execute(f\"SELECT COUNT(*) FROM {table}\").fetchone()[0]\n",
    "    print(f\"{table}: {cnt} rows\")\n",
    "conn.close()\n"
   ]
  }
 ],
 "metadata": {
  "kernelspec": {
   "display_name": "Python 3",
   "language": "python",
   "name": "python3"
  },
  "language_info": {
   "codemirror_mode": {
    "name": "ipython",
    "version": 3
   },
   "file_extension": ".py",
   "mimetype": "text/x-python",
   "name": "python",
   "nbconvert_exporter": "python",
   "pygments_lexer": "ipython3",
   "version": "3.10.11"
  }
 },
 "nbformat": 4,
 "nbformat_minor": 5
}

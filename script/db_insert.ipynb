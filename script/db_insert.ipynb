{
 "cells": [
  {
   "cell_type": "code",
   "execution_count": 1,
   "id": "456841e7",
   "metadata": {},
   "outputs": [],
   "source": [
    "import sqlite3, json, os\n",
    "\n",
    "# Paths\n",
    "DB_PATH  = 'database/book_reviews.db'\n",
    "if os.path.exists(DB_PATH):\n",
    "    os.remove(DB_PATH)\n",
    "SCHEMA   = './db_schema.sql'\n",
    "PHRASES  = 'data/processed/phrases.json'\n",
    "os.makedirs(os.path.dirname(DB_PATH), exist_ok=True)"
   ]
  },
  {
   "cell_type": "code",
   "execution_count": 2,
   "id": "27207e41",
   "metadata": {},
   "outputs": [],
   "source": [
    "# Connect & create tables\n",
    "conn = sqlite3.connect(DB_PATH)\n",
    "cur  = conn.cursor()\n",
    "with open(SCHEMA,'r',encoding='utf-8') as f:\n",
    "    cur.executescript(f.read())\n"
   ]
  },
  {
   "cell_type": "code",
   "execution_count": 3,
   "id": "1d81ba0f",
   "metadata": {},
   "outputs": [],
   "source": [
    "# Load your JSON data\n",
    "with open(PHRASES,'r',encoding='utf-8') as f:\n",
    "    data = json.load(f)"
   ]
  },
  {
   "cell_type": "code",
   "execution_count": 4,
   "id": "9ad9efe1",
   "metadata": {},
   "outputs": [
    {
     "name": "stdout",
     "output_type": "stream",
     "text": [
      "Data insertion complete\n"
     ]
    }
   ],
   "source": [
    "# Insert into tables\n",
    "for entry in data:\n",
    "    asin    = entry.get('asin','')\n",
    "    title   = entry.get('title','')\n",
    "    genre   = entry.get('genre','')\n",
    "    price   = entry.get('price','')\n",
    "    if asin == \"0006498442\":\n",
    "        print(genre)\n",
    "    # Books table\n",
    "    cur.execute(\n",
    "        \"INSERT OR IGNORE INTO books (asin,title,price,genre) VALUES (?,?,?,?)\",\n",
    "        (asin, title, price, genre)\n",
    "    )\n",
    "\n",
    "    # Reviews table\n",
    "    cur.execute(\n",
    "        \"INSERT INTO reviews (asin,rating,review_text,summary) VALUES (?,?,?,?)\",\n",
    "        (asin, entry.get('rating'), entry.get('text',''), entry.get('summary',''))\n",
    "    )\n",
    "    review_id = cur.lastrowid\n",
    "\n",
    "    # Sentiments table\n",
    "    for p in entry.get('phrases', []):\n",
    "        cur.execute(\n",
    "            \"INSERT INTO sentiments (review_id,phrase,polarity) VALUES (?,?,?)\",\n",
    "            (review_id, p['text'], p['polarity'])\n",
    "        )\n",
    "\n",
    "# Commit and close\n",
    "conn.commit()\n",
    "conn.close()\n",
    "print(\"Data insertion complete\")\n"
   ]
  },
  {
   "cell_type": "code",
   "execution_count": 5,
   "id": "a9859e94",
   "metadata": {},
   "outputs": [
    {
     "name": "stdout",
     "output_type": "stream",
     "text": [
      "books: 28609 rows\n",
      "reviews: 537431 rows\n",
      "sentiments: 1709033 rows\n"
     ]
    }
   ],
   "source": [
    "# Verify & Query Counts\n",
    "import sqlite3\n",
    "\n",
    "conn = sqlite3.connect('database/book_reviews.db')\n",
    "for table in ('books','reviews','sentiments'):\n",
    "    cnt = conn.execute(f\"SELECT COUNT(*) FROM {table}\").fetchone()[0]\n",
    "    print(f\"{table}: {cnt} rows\")\n",
    "conn.close()\n"
   ]
  }
 ],
 "metadata": {
  "kernelspec": {
   "display_name": "Python 3",
   "language": "python",
   "name": "python3"
  },
  "language_info": {
   "codemirror_mode": {
    "name": "ipython",
    "version": 3
   },
   "file_extension": ".py",
   "mimetype": "text/x-python",
   "name": "python",
   "nbconvert_exporter": "python",
   "pygments_lexer": "ipython3",
   "version": "3.10.11"
  }
 },
 "nbformat": 4,
 "nbformat_minor": 5
}

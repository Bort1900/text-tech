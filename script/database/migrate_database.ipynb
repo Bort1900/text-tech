{
 "cells": [
  {
   "cell_type": "markdown",
   "id": "0a09c2ec",
   "metadata": {},
   "source": [
    "This notebook migrates the SQLite Database to Postgresql to be able to access it remotely for the dashboard"
   ]
  },
  {
   "cell_type": "code",
   "execution_count": 1,
   "id": "eaea846b",
   "metadata": {},
   "outputs": [],
   "source": [
    "import pandas as pd\n",
    "def remove_null_bytes(df):\n",
    "    # removes null bytes which are not allowed in postgresql#\n",
    "    for col in df.select_dtypes(include=['object']):\n",
    "        df[col] = df[col].apply(lambda x: x.replace('\\x00', '') if isinstance(x, str) else x)\n",
    "    return df"
   ]
  },
  {
   "cell_type": "code",
   "execution_count": 15,
   "id": "a26a113a",
   "metadata": {},
   "outputs": [],
   "source": [
    "import sqlite3\n",
    "import csv\n",
    "\n",
    "#export SQL tables db to csv\n",
    "sqlite_conn = sqlite3.connect('book_reviews.db')\n",
    "tables = sqlite_conn.execute(\"SELECT name FROM sqlite_master WHERE type='table';\").fetchall()\n",
    "dataframes = {}\n",
    "for table_name in tables:\n",
    "    #filter out sqlite metadata\n",
    "    if table_name[0] == 'sqlite_sequence':\n",
    "        continue\n",
    "    table_name = table_name[0]\n",
    "    df = pd.read_sql_query(f\"SELECT * FROM {table_name};\", sqlite_conn)\n",
    "    dataframes[table_name] = remove_null_bytes(df)\n",
    "    #df.to_csv(f\"{table_name}.csv\", index=False,escapechar='\\\\',quoting=csv.QUOTE_ALL)\n",
    "\n"
   ]
  },
  {
   "cell_type": "code",
   "execution_count": null,
   "id": "0c272edb",
   "metadata": {},
   "outputs": [],
   "source": [
    "import psycopg2\n",
    "from dotenv import load_dotenv\n",
    "import os\n",
    "def connectToDatabase():\n",
    "    # Connect to Supabase database, has to be closed afterwards\n",
    "    load_dotenv()\n",
    "    USER = os.getenv(\"USER\")\n",
    "    PASSWORD = os.getenv(\"PASSWORD\")\n",
    "    HOST = os.getenv(\"HOST\")\n",
    "    PORT = os.getenv(\"PORT\")\n",
    "    DBNAME = os.getenv(\"DBNAME\")\n",
    "    try:\n",
    "        connection = psycopg2.connect(\n",
    "            user=USER,\n",
    "            password=PASSWORD,\n",
    "            host=HOST,\n",
    "            port=PORT,\n",
    "            dbname=DBNAME\n",
    "        )\n",
    "        \n",
    "        print(f\"Connection successful! to {HOST} on port {PORT}\")\n",
    "        return connection\n",
    "\n",
    "    except Exception as e:\n",
    "        print(f\"Failed to connect: {e}\")\n"
   ]
  },
  {
   "cell_type": "code",
   "execution_count": 16,
   "id": "65ab5404",
   "metadata": {},
   "outputs": [
    {
     "name": "stdout",
     "output_type": "stream",
     "text": [
      "Connection successful! to aws-0-eu-central-1.pooler.supabase.com on port 6543\n"
     ]
    }
   ],
   "source": [
    "import re\n",
    "connection = connectToDatabase()\n",
    "#read in SQL schema\n",
    "with open(\"db_schema.sql\", \"r\") as file:\n",
    "    schema_sqlite = file.read()\n",
    "#adjust for PostgreSQL\n",
    "schema_postgresql = re.sub(r'INTEGER ((\\w* )*)AUTOINCREMENT',r'SERIAL \\1',schema_sqlite)\n",
    "# apply schema to  Database\n",
    "with connection.cursor() as cur:\n",
    "    cur.execute(schema_postgresql)\n",
    "    connection.commit()\n",
    "    connection.close()"
   ]
  },
  {
   "cell_type": "code",
   "execution_count": null,
   "id": "b7330bf6",
   "metadata": {},
   "outputs": [
    {
     "name": "stdout",
     "output_type": "stream",
     "text": [
      "Connection successful! to aws-0-eu-central-1.pooler.supabase.com on port 6543\n"
     ]
    }
   ],
   "source": [
    "from psycopg2.extras import execute_values\n",
    "\n",
    "connection = connectToDatabase()\n",
    "\n",
    "for table_name, df in dataframes.items():\n",
    "    columns = ','.join(df.columns)\n",
    "    values = [tuple(x) for x in df.to_numpy()]\n",
    "    insert_query = f\"INSERT INTO {table_name} ({columns}) VALUES %s\"\n",
    "    with connection.cursor() as cur:\n",
    "        execute_values(cur, insert_query, values)\n",
    "        connection.commit()\n",
    " \n",
    "connection.close()\n"
   ]
  }
 ],
 "metadata": {
  "kernelspec": {
   "display_name": "Python 3",
   "language": "python",
   "name": "python3"
  },
  "language_info": {
   "codemirror_mode": {
    "name": "ipython",
    "version": 3
   },
   "file_extension": ".py",
   "mimetype": "text/x-python",
   "name": "python",
   "nbconvert_exporter": "python",
   "pygments_lexer": "ipython3",
   "version": "3.10.11"
  }
 },
 "nbformat": 4,
 "nbformat_minor": 5
}

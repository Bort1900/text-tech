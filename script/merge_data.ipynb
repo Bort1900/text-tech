{
 "cells": [
  {
   "cell_type": "markdown",
   "id": "bc50e51d",
   "metadata": {},
   "source": [
    "This Notebook merges the Metadata and Reviewdata into one JSON file"
   ]
  },
  {
   "cell_type": "code",
   "execution_count": 4,
   "id": "2ffc26cb",
   "metadata": {},
   "outputs": [],
   "source": [
    "import json, os\n",
    "\n",
    "META_IN   = '../cleaning/filtered_meta_Books.json'\n",
    "REVIEWS_IN= '../cleaning/filtered_Books.json'\n",
    "MERGED_OUT = 'data/processed/merged.json'\n",
    "os.makedirs(os.path.dirname(MERGED_OUT), exist_ok=True)\n",
    "\n",
    "# Load metadata into dict\n",
    "with open(META_IN,'r',encoding='utf-8') as meta:\n",
    "    meta_map = {\n",
    "        json.loads(line)['asin']: json.loads(line)\n",
    "        for line in meta\n",
    "    }\n",
    "\n"
   ]
  },
  {
   "cell_type": "code",
   "execution_count": 5,
   "id": "3cbd0e1b",
   "metadata": {},
   "outputs": [],
   "source": [
    "#load reviews and merge with metadata\n",
    "merged = []\n",
    "with open(REVIEWS_IN,'r',encoding='utf-8') as revs:\n",
    "    for line in revs:\n",
    "        rev = json.loads(line)\n",
    "        book = meta_map.get(rev['asin'])\n",
    "        categories = book.get('category',[None])\n",
    "        # avoid genre being just 'Books'\n",
    "        if len(categories)>1:\n",
    "            genre = categories[1]\n",
    "        else:\n",
    "            genre = categories[0] \n",
    "        price=book.get('price')\n",
    "        # filter out strange prices or books with missing prizes (mostly ebooks) in original data\n",
    "        if (not price.startswith('$'))or price=='':\n",
    "            continue\n",
    "        # filter out books without title\n",
    "        if book.get('title')=='':\n",
    "            continue\n",
    "        if not book: continue\n",
    "        merged.append({\n",
    "            'asin':    rev['asin'],\n",
    "            'title':   book.get('title'),\n",
    "            'author':  book.get('brand'),\n",
    "            'genre':   genre,\n",
    "            'price':   price,\n",
    "            'rating':  rev.get('overall'),\n",
    "            'text':    rev.get('reviewText'),\n",
    "            'summary': rev.get('summary')\n",
    "        })\n"
   ]
  },
  {
   "cell_type": "code",
   "execution_count": 6,
   "id": "fe5e3c7e",
   "metadata": {},
   "outputs": [
    {
     "name": "stdout",
     "output_type": "stream",
     "text": [
      "Wrote 398639 records to data/processed/merged.json\n",
      "[{'asin': '0006378560', 'title': 'Africa : Despatches from a Fragile Continent', 'author': \"Visit Amazon's Blaine Harden Page\", 'genre': 'History', 'price': '$0.96', 'rating': 5.0, 'text': 'A friend gave me this book, and said \"you gotta read this\".  And you know what, I\\'m really happy she did, because I learned a lot from Dispatches.  Harden does a great job of weaving different short stories, each with a unique slant and look at African life.  Both entertaining and educational, I\\'m now fascinated with Africa and ready to read more!', 'summary': 'A great overview of African Life and Politics'}, {'asin': '0007130929', 'title': \"Bart Simpson's Treehouse of Horror Spine-Tingling Spooktacular\", 'author': 'By The Editors', 'genre': 'Humor & Entertainment', 'price': '$48.52', 'rating': 4.0, 'text': 'This  book  is very  funny  the genre of my book is comedy[Alejandro Delgado[', 'summary': 'The Simpsons Crazy  stories'}, {'asin': '0007130929', 'title': \"Bart Simpson's Treehouse of Horror Spine-Tingling Spooktacular\", 'author': 'By The Editors', 'genre': 'Humor & Entertainment', 'price': '$48.52', 'rating': 5.0, 'text': 'This is a great book to curl up to when the Simpson\\'s are not on TV!  Wonderful story lines and fun \"commercials\" here and there.  So well written you can actually hear the character\\'s voices in your head as you read.  A gr8 read!', 'summary': 'Following in the great tradition of the treehouse of horror'}, {'asin': '000715805X', 'title': 'The Real Trial of Oscar Wilde', 'author': \"Visit Amazon's Merlin Holland Page\", 'genre': 'Literature & Fiction', 'price': '$15.15', 'rating': 3.0, 'text': 'This is a wonderful book if you are only interested in reading the actual transcript from Oscar\\'s trial. Indeed, the book is excellent in that respect. However, I would say it is a book to avoid if you are a fan of Lord Alfred Douglas. It seems to me that this book, like so many before it, is trying to make Alfred Douglas the scapegoat. There was a reason Bosie wanted Oscar to take his father to trial, they WOULD have won. It was a carefully laid out plan and Oscar, not Bosie, is the one who went astray from it. Lord Alfred was to take the witness box and testify against his father. When he was finished telling all that his father had done, what sort of man he was, they felt sure no jury would side with him. However, just before Bosie was about to take the witness box, Oscar refused to allow him. He knew what it would mean by his refusing to allow Bosie to take the stand, he understood very well what it would mean, but he said Bosie should never have to do such a thing. Lord Alfred himself spent a great deal of time lamenting Oscar\\'s decision, and wondering why on earth he changed his mind. He seems to think that Oscar had been talking to Robert Ross and he and Ross had come up with another plan. Ross however, is a compulsive liar, and was probably the worst person Oscar could have trusted.\\nOscar\\'s sons, and his grandsons, lived with a false impression of Robert Ross, and therefore with a false impression of Lord Alfred Douglas. I am sickened that these misconceptions live on even now, so long after their deaths. I am sick of Lord Alfred being made out to be a monster, some evil, wicked boy who destroyed Oscar Wilde. Oscar was a very intelligent man, was he not? Don\\'t you think he knew what he was doing? \"I must say to myself that I ruined myself and that no man great or small can be ruined but by his own hand.\"-Oscar Wilde. I\\'m just tired of the blame being shoveled solely onto Lord Alfred. He wasn\\'t a monster, and I wish people would stop trying to portray him as if he was one.', 'summary': 'A Book to Avoid'}, {'asin': '000715805X', 'title': 'The Real Trial of Oscar Wilde', 'author': \"Visit Amazon's Merlin Holland Page\", 'genre': 'Literature & Fiction', 'price': '$15.15', 'rating': 5.0, 'text': \"What's amazing is that, we have heard for many years about the unparalleled wit and charm of Wilde in conversation, yet until now we of course have been denied this experience.  Reading these verbatim transcripts, hundreds of pages long and recently unearthed, we are given the opportunity to do this almost virtually, for the Wildean voice comes through loud and clear, with perfect crispness and distinction.  This libel trial, the first of three of the Oscar Wilde trials, is almost a conversation between two persons, and the defence counsel, Carson, though incredibly scornful and insolent, is almost as intelligent and quite as good at debate as Wilde, so it's a splendid match of brains.  The outcome is disheartening, though, and throughout you can't help pounding the desk and murmuring out loud, oh, Oscar, how could you have been so stupid!  Or -- don't go there!  So he becomes real in a way he hasn't previously, not even in the best biographies available.  Queensberry and Alfred Douglas come off, in hindsight, as monsters of privilege in only quasi-human form.  And poor Edward Shelley, it is plain, deserves a book of his own.\", 'summary': 'An amazing reading experience'}]\n"
     ]
    }
   ],
   "source": [
    "# write to json file\n",
    "with open(MERGED_OUT, 'w',encoding='utf-8') as f:\n",
    "    json.dump(merged, f)\n",
    "print(f\"Wrote {len(merged)} records to {MERGED_OUT}\")\n",
    "print(merged[:5])"
   ]
  }
 ],
 "metadata": {
  "kernelspec": {
   "display_name": "Python 3",
   "language": "python",
   "name": "python3"
  },
  "language_info": {
   "codemirror_mode": {
    "name": "ipython",
    "version": 3
   },
   "file_extension": ".py",
   "mimetype": "text/x-python",
   "name": "python",
   "nbconvert_exporter": "python",
   "pygments_lexer": "ipython3",
   "version": "3.10.11"
  }
 },
 "nbformat": 4,
 "nbformat_minor": 5
}

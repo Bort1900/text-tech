{
 "cells": [
  {
   "cell_type": "code",
   "execution_count": null,
   "id": "2ffc26cb",
   "metadata": {},
   "outputs": [],
   "source": [
    "# scripts/merge_data.py\n",
    "\n",
    "import json, os\n",
    "\n",
    "# Inputs\n",
    "META_IN   = '../cleaning/filtered_meta_Books.json'\n",
    "REVIEWS_IN= '../cleaning/filtered_Books.json'\n",
    "\n",
    "# Output\n",
    "MERGED_OUT = 'data/processed/merged.json'\n",
    "os.makedirs(os.path.dirname(MERGED_OUT), exist_ok=True)\n",
    "\n",
    "# Load metadata into dict\n",
    "with open(META_IN,'r',encoding='utf-8') as meta:\n",
    "    meta_map = {\n",
    "        json.loads(line)['asin']: json.loads(line)\n",
    "        for line in meta\n",
    "    }\n",
    "\n"
   ]
  },
  {
   "cell_type": "code",
   "execution_count": null,
   "id": "3cbd0e1b",
   "metadata": {},
   "outputs": [],
   "source": [
    "#load reviews and merge with metadata\n",
    "merged = []\n",
    "with open(REVIEWS_IN,'r',encoding='utf-8') as revs:\n",
    "    for line in revs:\n",
    "        rev = json.loads(line)\n",
    "        book = meta_map.get(rev['asin'])\n",
    "        if not book: continue\n",
    "        merged.append({\n",
    "            'asin':    rev['asin'],\n",
    "            'title':   book.get('title'),\n",
    "            'genre':   book.get('category', [None])[0],\n",
    "            'price':   book.get('price'),\n",
    "            'rating':  rev.get('overall'),\n",
    "            'text':    rev.get('reviewText'),\n",
    "            'summary': rev.get('summary')\n",
    "        })\n"
   ]
  },
  {
   "cell_type": "code",
   "execution_count": null,
   "id": "fe5e3c7e",
   "metadata": {},
   "outputs": [],
   "source": [
    "# write to json file\n",
    "print(merged[:4])\n",
    "with open(MERGED_OUT, 'w') as f:\n",
    "    json.dump(merged, f)\n",
    "print(f\"Wrote {len(merged)} records to {MERGED_OUT}\")"
   ]
  }
 ],
 "metadata": {
  "kernelspec": {
   "display_name": "Python 3",
   "language": "python",
   "name": "python3"
  },
  "language_info": {
   "codemirror_mode": {
    "name": "ipython",
    "version": 3
   },
   "file_extension": ".py",
   "mimetype": "text/x-python",
   "name": "python",
   "nbconvert_exporter": "python",
   "pygments_lexer": "ipython3",
   "version": "3.10.11"
  }
 },
 "nbformat": 4,
 "nbformat_minor": 5
}

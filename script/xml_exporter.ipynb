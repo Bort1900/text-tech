{
 "cells": [
  {
   "cell_type": "code",
   "execution_count": null,
   "id": "2543f7e4",
   "metadata": {},
   "outputs": [],
   "source": [
    "import json, os\n",
    "import xml.etree.ElementTree as ET\n",
    "\n",
    "# Paths\n",
    "IN_FILE = \"data/processed/phrases.json\"\n",
    "OUT_XML = \"output/xml/all_reviews.xml\"\n",
    "os.makedirs(os.path.dirname(OUT_XML), exist_ok=True)\n",
    "\n",
    "# Load JSON\n",
    "with open(IN_FILE, \"r\", encoding=\"utf-8\") as f:\n",
    "    data = json.load(f)"
   ]
  },
  {
   "cell_type": "code",
   "execution_count": null,
   "id": "9e22e17d",
   "metadata": {},
   "outputs": [],
   "source": [
    "root = ET.Element(\"reviews\")\n",
    "for entry in data:\n",
    "    asin = str(entry.get(\"asin\") or \"\")\n",
    "    title = str(entry.get(\"title\") or \"\")\n",
    "    genre = str(entry.get(\"genre\") or \"\")\n",
    "    price = str(entry.get(\"price\") or \"\")\n",
    "\n",
    "    review_el = ET.SubElement(root, \"review\")\n",
    "    book_el = ET.SubElement(\n",
    "        review_el,\n",
    "        \"book\",\n",
    "        {\"asin\": asin, \"title\": title, \"genre\": genre, \"price\": price},\n",
    "    )\n",
    "    sents_el = ET.SubElement(review_el, \"sentiments\")\n",
    "\n",
    "    for phrase in entry.get(\"phrases\", []):\n",
    "        text = str(phrase.get(\"text\") or \"\")\n",
    "        pol = str(phrase.get(\"polarity\") or \"\")\n",
    "        ph_el = ET.SubElement(sents_el, \"phrase\", {\"polarity\": pol})\n",
    "        ph_el.text = text"
   ]
  },
  {
   "cell_type": "code",
   "execution_count": null,
   "id": "736a4738",
   "metadata": {},
   "outputs": [
    {
     "name": "stdout",
     "output_type": "stream",
     "text": [
      "XML successfully written to output/xml/all_reviews.xml\n"
     ]
    }
   ],
   "source": [
    "tree = ET.ElementTree(root)\n",
    "tree.write(OUT_XML, encoding=\"utf-8\", xml_declaration=True)\n",
    "print(f\"XML successfully written to {OUT_XML}\")"
   ]
  }
 ],
 "metadata": {
  "kernelspec": {
   "display_name": "Python 3",
   "language": "python",
   "name": "python3"
  },
  "language_info": {
   "codemirror_mode": {
    "name": "ipython",
    "version": 3
   },
   "file_extension": ".py",
   "mimetype": "text/x-python",
   "name": "python",
   "nbconvert_exporter": "python",
   "pygments_lexer": "ipython3",
   "version": "3.10.11"
  }
 },
 "nbformat": 4,
 "nbformat_minor": 5
}

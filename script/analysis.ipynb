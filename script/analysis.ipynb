{
 "cells": [
  {
   "cell_type": "code",
   "execution_count": null,
   "id": "30aa94e7",
   "metadata": {},
   "outputs": [],
   "source": [
    "import sqlite3\n",
    "import pandas as pd\n",
    "\n",
    "# 1) Connect to your database\n",
    "conn = sqlite3.connect('./database/book_reviews.db')\n",
    "\n",
    "# 2) Run any SQL query—here we peek at your three tables\n",
    "books_df = pd.read_sql_query(\"SELECT * FROM books LIMIT 10;\", conn)\n",
    "reviews_df = pd.read_sql_query(\"SELECT * FROM reviews LIMIT 10;\", conn)\n",
    "sent_df = pd.read_sql_query(\"SELECT * FROM sentiments LIMIT 10;\", conn)\n",
    "\n",
    "conn.close()\n",
    "\n",
    "# 3) Display them\n",
    "print(\"=== books ===\")\n",
    "display(books_df)\n",
    "\n",
    "print(\"=== reviews ===\")\n",
    "display(reviews_df)\n",
    "\n",
    "print(\"=== sentiments ===\")\n",
    "display(sent_df)\n"
   ]
  }
 ],
 "metadata": {
  "kernelspec": {
   "display_name": "Python 3",
   "language": "python",
   "name": "python3"
  },
  "language_info": {
   "codemirror_mode": {
    "name": "ipython",
    "version": 3
   },
   "file_extension": ".py",
   "mimetype": "text/x-python",
   "name": "python",
   "nbconvert_exporter": "python",
   "pygments_lexer": "ipython3",
   "version": "3.10.11"
  }
 },
 "nbformat": 4,
 "nbformat_minor": 5
}
